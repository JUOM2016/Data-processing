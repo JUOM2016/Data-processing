{
 "cells": [
  {
   "cell_type": "code",
   "execution_count": null,
   "metadata": {},
   "outputs": [],
   "source": [
    "'''\n",
    "File: Untitled-1.ipynb\n",
    "Created Date: Monday, March 27th 2023, 11:19:20 am\n",
    "Author: Wei Jiang\n",
    "-----\n",
    "Last Modified: Monday, 27th March 2023 11:19:20 am\n",
    "Modified By: Wei Jiang\n",
    "-----\n",
    "Copyright (c) 2023\n",
    "-----\n",
    "HISTORY:\n",
    "Date      \tBy\tComments\n",
    "----------\t---\t----------------------------------------------------------\n",
    "'''\n"
   ]
  },
  {
   "cell_type": "code",
   "execution_count": 5,
   "metadata": {},
   "outputs": [],
   "source": [
    "import os\n",
    "import numpy as np\n",
    "import pandas as pd\n",
    "from natsort import natsorted\n",
    "import matplotlib.pyplot as plt\n",
    "import sys\n",
    "from scipy.integrate import simpson\n",
    "from scipy.optimize import curve_fit\n",
    "import glob"
   ]
  },
  {
   "cell_type": "code",
   "execution_count": 153,
   "metadata": {},
   "outputs": [
    {
     "ename": "KeyboardInterrupt",
     "evalue": "",
     "output_type": "error",
     "traceback": [
      "\u001b[1;31m---------------------------------------------------------------------------\u001b[0m",
      "\u001b[1;31mKeyboardInterrupt\u001b[0m                         Traceback (most recent call last)",
      "Cell \u001b[1;32mIn [153], line 4\u001b[0m\n\u001b[0;32m      2\u001b[0m folder \u001b[39m=\u001b[39m \u001b[39m'\u001b[39m\u001b[39m0324_Fluor_2\u001b[39m\u001b[39m'\u001b[39m\n\u001b[0;32m      3\u001b[0m root\u001b[39m=\u001b[39m \u001b[39mdir\u001b[39m \u001b[39m+\u001b[39m \u001b[39m'\u001b[39m\u001b[39m\\\\\u001b[39;00m\u001b[39m'\u001b[39m \u001b[39m+\u001b[39m folder\u001b[39m+\u001b[39m \u001b[39m'\u001b[39m\u001b[39m\\\\\u001b[39;00m\u001b[39m'\u001b[39m\n\u001b[1;32m----> 4\u001b[0m sub_folders\u001b[39m=\u001b[39mnatsorted([ item \u001b[39mfor\u001b[39;00m item \u001b[39min\u001b[39;00m os\u001b[39m.\u001b[39mlistdir(root) \u001b[39mif\u001b[39;00m os\u001b[39m.\u001b[39mpath\u001b[39m.\u001b[39misdir(os\u001b[39m.\u001b[39mpath\u001b[39m.\u001b[39mjoin(root, item)) ])\n\u001b[0;32m      5\u001b[0m num_of_subfolders\u001b[39m=\u001b[39mnp\u001b[39m.\u001b[39msize(sub_folders)\n\u001b[0;32m      7\u001b[0m input_power\u001b[39m=\u001b[39mnp\u001b[39m.\u001b[39marray([\u001b[39m0\u001b[39m,\u001b[39m0.00024\u001b[39m,\u001b[39m0.003\u001b[39m,\u001b[39m0.014\u001b[39m,\u001b[39m0.043\u001b[39m,\u001b[39m0.103\u001b[39m,\u001b[39m0.207\u001b[39m,\u001b[39m0.374\u001b[39m,\u001b[39m0.611\u001b[39m,\u001b[39m0.933\u001b[39m,\u001b[39m1.35\u001b[39m,\u001b[39m1.86\u001b[39m,\u001b[39m2.48\u001b[39m,\u001b[39m3.2\u001b[39m,\u001b[39m3.97\u001b[39m,\u001b[39m4.86\u001b[39m,\u001b[39m5.74\u001b[39m,\u001b[39m6.68\u001b[39m,\u001b[39m7.55\u001b[39m,\u001b[39m8.54\u001b[39m,\u001b[39m9.29\u001b[39m,\u001b[39m10.06\u001b[39m,\u001b[39m10.69\u001b[39m,\u001b[39m11.31\u001b[39m,\u001b[39m11.63\u001b[39m])\n",
      "Cell \u001b[1;32mIn [153], line 4\u001b[0m, in \u001b[0;36m<listcomp>\u001b[1;34m(.0)\u001b[0m\n\u001b[0;32m      2\u001b[0m folder \u001b[39m=\u001b[39m \u001b[39m'\u001b[39m\u001b[39m0324_Fluor_2\u001b[39m\u001b[39m'\u001b[39m\n\u001b[0;32m      3\u001b[0m root\u001b[39m=\u001b[39m \u001b[39mdir\u001b[39m \u001b[39m+\u001b[39m \u001b[39m'\u001b[39m\u001b[39m\\\\\u001b[39;00m\u001b[39m'\u001b[39m \u001b[39m+\u001b[39m folder\u001b[39m+\u001b[39m \u001b[39m'\u001b[39m\u001b[39m\\\\\u001b[39;00m\u001b[39m'\u001b[39m\n\u001b[1;32m----> 4\u001b[0m sub_folders\u001b[39m=\u001b[39mnatsorted([ item \u001b[39mfor\u001b[39;00m item \u001b[39min\u001b[39;00m os\u001b[39m.\u001b[39mlistdir(root) \u001b[39mif\u001b[39;00m os\u001b[39m.\u001b[39;49mpath\u001b[39m.\u001b[39;49misdir(os\u001b[39m.\u001b[39;49mpath\u001b[39m.\u001b[39;49mjoin(root, item)) ])\n\u001b[0;32m      5\u001b[0m num_of_subfolders\u001b[39m=\u001b[39mnp\u001b[39m.\u001b[39msize(sub_folders)\n\u001b[0;32m      7\u001b[0m input_power\u001b[39m=\u001b[39mnp\u001b[39m.\u001b[39marray([\u001b[39m0\u001b[39m,\u001b[39m0.00024\u001b[39m,\u001b[39m0.003\u001b[39m,\u001b[39m0.014\u001b[39m,\u001b[39m0.043\u001b[39m,\u001b[39m0.103\u001b[39m,\u001b[39m0.207\u001b[39m,\u001b[39m0.374\u001b[39m,\u001b[39m0.611\u001b[39m,\u001b[39m0.933\u001b[39m,\u001b[39m1.35\u001b[39m,\u001b[39m1.86\u001b[39m,\u001b[39m2.48\u001b[39m,\u001b[39m3.2\u001b[39m,\u001b[39m3.97\u001b[39m,\u001b[39m4.86\u001b[39m,\u001b[39m5.74\u001b[39m,\u001b[39m6.68\u001b[39m,\u001b[39m7.55\u001b[39m,\u001b[39m8.54\u001b[39m,\u001b[39m9.29\u001b[39m,\u001b[39m10.06\u001b[39m,\u001b[39m10.69\u001b[39m,\u001b[39m11.31\u001b[39m,\u001b[39m11.63\u001b[39m])\n",
      "File \u001b[1;32m~\\AppData\\Local\\Programs\\Python\\Python39\\lib\\genericpath.py:42\u001b[0m, in \u001b[0;36misdir\u001b[1;34m(s)\u001b[0m\n\u001b[0;32m     40\u001b[0m \u001b[39m\"\"\"Return true if the pathname refers to an existing directory.\"\"\"\u001b[39;00m\n\u001b[0;32m     41\u001b[0m \u001b[39mtry\u001b[39;00m:\n\u001b[1;32m---> 42\u001b[0m     st \u001b[39m=\u001b[39m os\u001b[39m.\u001b[39;49mstat(s)\n\u001b[0;32m     43\u001b[0m \u001b[39mexcept\u001b[39;00m (\u001b[39mOSError\u001b[39;00m, \u001b[39mValueError\u001b[39;00m):\n\u001b[0;32m     44\u001b[0m     \u001b[39mreturn\u001b[39;00m \u001b[39mFalse\u001b[39;00m\n",
      "\u001b[1;31mKeyboardInterrupt\u001b[0m: "
     ]
    }
   ],
   "source": [
    "dir = 'C:\\\\Users\\\\wj2002\\\\Dropbox (Heriot-Watt University Team)\\\\RES_EPS_Quantum_Photonics_Lab\\\\Experiments\\\\Current Experiments\\\\BB Telecom QM\\\\2023_Pr_YVO_Sectroscopy\\\\Visible\\\\0.5%'\n",
    "folder = '0324_Fluor_2'\n",
    "root= dir + '\\\\' + folder+ '\\\\'\n",
    "sub_folders=natsorted([ item for item in os.listdir(root) if os.path.isdir(os.path.join(root, item)) ])\n",
    "num_of_subfolders=np.size(sub_folders)\n",
    "\n",
    "input_power=np.array([0,0.00024,0.003,0.014,0.043,0.103,0.207,0.374,0.611,0.933,1.35,1.86,2.48,3.2,3.97,4.86,5.74,6.68,7.55,8.54,9.29,10.06,10.69,11.31,11.63])\n",
    "\n",
    "ave=25 # average times\n",
    "steps=25 # changing steps of the input laser power\n",
    "\n",
    "start_0=24 # Check the fist valid input power, as when the input power is 0 then nothing will show;\n",
    "# Find the dimensions of arrays for initialise the created arrays\n",
    "path=dir + '\\\\' + folder + '\\\\' + sub_folders[start_0] + '\\\\'\n",
    "file_list = os.listdir(path)\n",
    "list_csv=natsorted([i for i in file_list if i.endswith('.csv')])\n",
    "file_size=np.shape(list_csv)\n",
    "data_file_len=file_size[0]\n",
    "read_example=pd.read_csv(os.path.join(path,list_csv[0]))\n",
    "read_example=read_example.to_numpy()\n",
    "row_of_data, column_of_data=np.shape(read_example)\n",
    "\n",
    "show_raw_data=1\n",
    "sub_folders_index=np.range(len(sub_folders_index))\n",
    "for index_0 in range(len(sub_folders_index)):\n",
    "    # This loop is used to get the path for each measurement when changing the input power\n",
    "    path=dir + '\\\\' + folder + '\\\\' + sub_folders[sub_folders_index[index_0]] + '\\\\'\n",
    "    file_list = os.listdir(path)\n",
    "    list_csv=natsorted([i for i in file_list if i.endswith('.csv')])\n",
    "    read_example=pd.read_csv(os.path.join(path,list_csv[0]))\n",
    "    read_example=read_example.to_numpy()\n",
    "\n",
    "    # trigger_val=max(read_example[:,2])\n",
    "    # trigger_pos=np.flatnonzero((read_example[:-1,2] < trigger_val*0.55) & (read_example[1:,2] > trigger_val*0.55))+1\n",
    "    # traigger_offset=0\n",
    "\n",
    "    fig, ax = plt.subplots()\n",
    "    ax1=ax.twinx()\n",
    "    #ax.plot(read_example[:,0],read_example[:,1])\n",
    "    ax.plot(read_example[:,0],read_example[:,1],'g')\n",
    "\n",
    "    #ax1.plot(read_example[:,0],read_example[:,3],label='Reflected reference')\n",
    "    ax1.plot(read_example[:,0],read_example[:,2],'r',label='Transmitted signal')\n",
    "    # ax1.axvline(read_example[trigger_pos[0]+traigger_offset,0],color='b',linestyle='dashed')\n",
    "\n",
    "    ax1.legend()\n",
    "    ax.set_xlim([-0.1E-5,10E-5])\n",
    "    ax.set_xlabel('Time (s)')\n",
    "    ax.set_ylabel('Trigger')\n",
    "    ax1.set_ylabel('Reflected and Transmitted signals')\n",
    "\n",
    "    ax.annotate('Input power ='+\"{:.2f}\".format(input_power[sub_folders_index[index_0]])+' mW',\n",
    "            xy=(1, 0.7), xycoords='axes fraction',\n",
    "            xytext=(-20, 20), textcoords='offset pixels',\n",
    "            horizontalalignment='right',\n",
    "            verticalalignment='bottom')"
   ]
  },
  {
   "cell_type": "code",
   "execution_count": 65,
   "metadata": {},
   "outputs": [
    {
     "name": "stdout",
     "output_type": "stream",
     "text": [
      "2\n",
      "3\n",
      "4\n",
      "5\n",
      "6\n",
      "7\n",
      "8\n",
      "9\n",
      "10\n",
      "11\n",
      "12\n",
      "13\n",
      "14\n",
      "15\n",
      "16\n",
      "17\n",
      "18\n",
      "19\n",
      "20\n",
      "21\n",
      "22\n",
      "23\n",
      "24\n"
     ]
    }
   ],
   "source": [
    "start=2 # Check the fist valid input power, as when the input power is 0 then nothing will show; You can check this via the last block\n",
    "sub_folders_index=np.arange(start,num_of_subfolders,1)\n",
    "for index_0 in range(len(sub_folders_index)):\n",
    "    # This loop is used to get the path for each measurement when changing the input power\n",
    "    path=dir + '\\\\' + folder + '\\\\' + sub_folders[sub_folders_index] + '\\\\'\n",
    "    print(sub_folders_index[index])\n",
    "    for index_1, file_1 in enumerate(list_csv):\n",
    "        # This loop is used to read and average the traces saved for one input power\n",
    "        data_path=os.path.join(path,file_1)\n",
    "        data=pd.read_csv(data_path)\n",
    "        data=data.to_numpy()\n"
   ]
  }
 ],
 "metadata": {
  "kernelspec": {
   "display_name": "Python 3.9.5 ('.venv_data_processing': venv)",
   "language": "python",
   "name": "python3"
  },
  "language_info": {
   "codemirror_mode": {
    "name": "ipython",
    "version": 3
   },
   "file_extension": ".py",
   "mimetype": "text/x-python",
   "name": "python",
   "nbconvert_exporter": "python",
   "pygments_lexer": "ipython3",
   "version": "3.9.5"
  },
  "orig_nbformat": 4,
  "vscode": {
   "interpreter": {
    "hash": "4bad16700cba84401f1a34e5370ea47d2eb89f011ecb31f641a8f8558fa4752a"
   }
  }
 },
 "nbformat": 4,
 "nbformat_minor": 2
}
