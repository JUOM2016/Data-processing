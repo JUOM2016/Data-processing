{
 "cells": [
  {
   "attachments": {},
   "cell_type": "markdown",
   "metadata": {},
   "source": [
    "### <kbd> The codes are used to fit the temerature dependent absorption spectra for the $\\sigma$ polarisation (laser polarisation is perpendicular to the crystal axis) using the white light source "
   ]
  },
  {
   "cell_type": "code",
   "execution_count": null,
   "metadata": {},
   "outputs": [],
   "source": [
    "import os\n",
    "from io import StringIO \n",
    "import numpy as np\n",
    "import pandas as pd\n",
    "import matplotlib.pyplot as plt\n",
    "import sys\n",
    "from scipy import signal\n",
    "from scipy.optimize import curve_fit\n",
    "from scipy.integrate import simpson"
   ]
  }
 ],
 "metadata": {
  "kernelspec": {
   "display_name": ".venv_data_processing",
   "language": "python",
   "name": "python3"
  },
  "language_info": {
   "name": "python",
   "version": "3.9.5 (tags/v3.9.5:0a7dcbd, May  3 2021, 17:27:52) [MSC v.1928 64 bit (AMD64)]"
  },
  "orig_nbformat": 4,
  "vscode": {
   "interpreter": {
    "hash": "4bad16700cba84401f1a34e5370ea47d2eb89f011ecb31f641a8f8558fa4752a"
   }
  }
 },
 "nbformat": 4,
 "nbformat_minor": 2
}
